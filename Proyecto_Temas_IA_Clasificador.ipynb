{
 "cells": [
  {
   "cell_type": "markdown",
   "id": "fd81397e",
   "metadata": {},
   "source": [
    "# Similitud vectorial por medio de analisis de texto por Transformer"
   ]
  },
  {
   "cell_type": "code",
   "execution_count": 1,
   "id": "e94c128d",
   "metadata": {},
   "outputs": [],
   "source": [
    "import torch\n",
    "from transformers import AutoTokenizer, AutoModel\n",
    "from sklearn.cluster import KMeans\n",
    "import pandas as pd\n",
    "import matplotlib.pyplot as plt"
   ]
  },
  {
   "cell_type": "markdown",
   "id": "4a554442",
   "metadata": {},
   "source": [
    "### base de datos "
   ]
  },
  {
   "cell_type": "code",
   "execution_count": 7,
   "id": "294e5ff5",
   "metadata": {
    "scrolled": true
   },
   "outputs": [
    {
     "data": {
      "text/html": [
       "<div>\n",
       "<style scoped>\n",
       "    .dataframe tbody tr th:only-of-type {\n",
       "        vertical-align: middle;\n",
       "    }\n",
       "\n",
       "    .dataframe tbody tr th {\n",
       "        vertical-align: top;\n",
       "    }\n",
       "\n",
       "    .dataframe thead th {\n",
       "        text-align: right;\n",
       "    }\n",
       "</style>\n",
       "<table border=\"1\" class=\"dataframe\">\n",
       "  <thead>\n",
       "    <tr style=\"text-align: right;\">\n",
       "      <th></th>\n",
       "      <th>IDLink</th>\n",
       "      <th>Title</th>\n",
       "      <th>Headline</th>\n",
       "      <th>Source</th>\n",
       "      <th>Topic</th>\n",
       "      <th>PublishDate</th>\n",
       "      <th>Facebook</th>\n",
       "      <th>GooglePlus</th>\n",
       "      <th>LinkedIn</th>\n",
       "    </tr>\n",
       "  </thead>\n",
       "  <tbody>\n",
       "    <tr>\n",
       "      <th>0</th>\n",
       "      <td>tFrqIR6Chj</td>\n",
       "      <td>Sliding Economy: FG fights back with N3trn TSA...</td>\n",
       "      <td>With the 2016 budget now passed by the Nationa...</td>\n",
       "      <td>BusinessDay</td>\n",
       "      <td>economy</td>\n",
       "      <td>2016-03-29 01:41:12</td>\n",
       "      <td>0</td>\n",
       "      <td>0</td>\n",
       "      <td>1</td>\n",
       "    </tr>\n",
       "    <tr>\n",
       "      <th>1</th>\n",
       "      <td>DVAaGErjlF</td>\n",
       "      <td>Microsoft shows how HoloLens can bring distant...</td>\n",
       "      <td>A recent Microsoft Research video shows how th...</td>\n",
       "      <td>Daily Mail</td>\n",
       "      <td>microsoft</td>\n",
       "      <td>2016-03-29 01:41:27</td>\n",
       "      <td>121</td>\n",
       "      <td>2</td>\n",
       "      <td>13</td>\n",
       "    </tr>\n",
       "    <tr>\n",
       "      <th>2</th>\n",
       "      <td>OT9UIZm5M2</td>\n",
       "      <td>Microsoft’s Twitter Robot Praises Hitler, Trum...</td>\n",
       "      <td>* Microsoft teamed with Bing to create TayTwee...</td>\n",
       "      <td>EURweb</td>\n",
       "      <td>microsoft</td>\n",
       "      <td>2016-03-29 01:47:00</td>\n",
       "      <td>12</td>\n",
       "      <td>1</td>\n",
       "      <td>0</td>\n",
       "    </tr>\n",
       "    <tr>\n",
       "      <th>3</th>\n",
       "      <td>lflGp3q2Fj</td>\n",
       "      <td>Flood of Central Bank Moves Can't Get World Ec...</td>\n",
       "      <td>Central bankers have managed to steer the worl...</td>\n",
       "      <td>Bloomberg via Yahoo! Finance</td>\n",
       "      <td>economy</td>\n",
       "      <td>2016-03-29 02:00:00</td>\n",
       "      <td>0</td>\n",
       "      <td>0</td>\n",
       "      <td>3</td>\n",
       "    </tr>\n",
       "    <tr>\n",
       "      <th>4</th>\n",
       "      <td>zDYG0SoovZ</td>\n",
       "      <td>USD/JPY: bears lining up on mixed U.S. economy...</td>\n",
       "      <td>However, this streak of seven-day gains might ...</td>\n",
       "      <td>FXStreet</td>\n",
       "      <td>economy</td>\n",
       "      <td>2016-03-29 02:01:07</td>\n",
       "      <td>3</td>\n",
       "      <td>0</td>\n",
       "      <td>0</td>\n",
       "    </tr>\n",
       "    <tr>\n",
       "      <th>...</th>\n",
       "      <td>...</td>\n",
       "      <td>...</td>\n",
       "      <td>...</td>\n",
       "      <td>...</td>\n",
       "      <td>...</td>\n",
       "      <td>...</td>\n",
       "      <td>...</td>\n",
       "      <td>...</td>\n",
       "      <td>...</td>\n",
       "    </tr>\n",
       "    <tr>\n",
       "      <th>295</th>\n",
       "      <td>iwml5iqGfg</td>\n",
       "      <td>Lenovo ThinkPad X1 Yoga review</td>\n",
       "      <td>Key Specifications HD webcam Yes Touchscreen Y...</td>\n",
       "      <td>Digital Trends via Yahoo! Finance</td>\n",
       "      <td>microsoft</td>\n",
       "      <td>2016-03-29 17:28:00</td>\n",
       "      <td>0</td>\n",
       "      <td>0</td>\n",
       "      <td>0</td>\n",
       "    </tr>\n",
       "    <tr>\n",
       "      <th>296</th>\n",
       "      <td>khOoYQDLyc</td>\n",
       "      <td>Lenovo ThinkPad X1 Yoga review</td>\n",
       "      <td>Key Specifications HD webcam Yes Touchscreen Y...</td>\n",
       "      <td>Digital Trends via Yahoo! Sports</td>\n",
       "      <td>microsoft</td>\n",
       "      <td>2016-03-29 17:28:00</td>\n",
       "      <td>0</td>\n",
       "      <td>0</td>\n",
       "      <td>0</td>\n",
       "    </tr>\n",
       "    <tr>\n",
       "      <th>297</th>\n",
       "      <td>7ijbPSYCGW</td>\n",
       "      <td>China's future challenge for the world economy</td>\n",
       "      <td>China's attempted economic transition has deep...</td>\n",
       "      <td>Financial Times</td>\n",
       "      <td>economy</td>\n",
       "      <td>2016-03-29 17:32:09</td>\n",
       "      <td>50</td>\n",
       "      <td>7</td>\n",
       "      <td>140</td>\n",
       "    </tr>\n",
       "    <tr>\n",
       "      <th>298</th>\n",
       "      <td>hCgKLYy9BG</td>\n",
       "      <td>Canadian UN human rights adviser for Palestine...</td>\n",
       "      <td>A Canadian legal scholar appointed as the Unit...</td>\n",
       "      <td>Ottawa Sun</td>\n",
       "      <td>palestine</td>\n",
       "      <td>2016-03-29 17:34:00</td>\n",
       "      <td>0</td>\n",
       "      <td>0</td>\n",
       "      <td>0</td>\n",
       "    </tr>\n",
       "    <tr>\n",
       "      <th>299</th>\n",
       "      <td>lTpjrI4nEX</td>\n",
       "      <td>Obama Gifted With Restored Copy of 'Native Son...</td>\n",
       "      <td>The president received a complete and restored...</td>\n",
       "      <td>Hollywood Reporter</td>\n",
       "      <td>obama</td>\n",
       "      <td>2016-03-29 17:35:09</td>\n",
       "      <td>61</td>\n",
       "      <td>2</td>\n",
       "      <td>0</td>\n",
       "    </tr>\n",
       "  </tbody>\n",
       "</table>\n",
       "<p>300 rows × 9 columns</p>\n",
       "</div>"
      ],
      "text/plain": [
       "         IDLink                                              Title  \\\n",
       "0    tFrqIR6Chj  Sliding Economy: FG fights back with N3trn TSA...   \n",
       "1    DVAaGErjlF  Microsoft shows how HoloLens can bring distant...   \n",
       "2    OT9UIZm5M2  Microsoft’s Twitter Robot Praises Hitler, Trum...   \n",
       "3    lflGp3q2Fj  Flood of Central Bank Moves Can't Get World Ec...   \n",
       "4    zDYG0SoovZ  USD/JPY: bears lining up on mixed U.S. economy...   \n",
       "..          ...                                                ...   \n",
       "295  iwml5iqGfg                     Lenovo ThinkPad X1 Yoga review   \n",
       "296  khOoYQDLyc                     Lenovo ThinkPad X1 Yoga review   \n",
       "297  7ijbPSYCGW     China's future challenge for the world economy   \n",
       "298  hCgKLYy9BG  Canadian UN human rights adviser for Palestine...   \n",
       "299  lTpjrI4nEX  Obama Gifted With Restored Copy of 'Native Son...   \n",
       "\n",
       "                                              Headline  \\\n",
       "0    With the 2016 budget now passed by the Nationa...   \n",
       "1    A recent Microsoft Research video shows how th...   \n",
       "2    * Microsoft teamed with Bing to create TayTwee...   \n",
       "3    Central bankers have managed to steer the worl...   \n",
       "4    However, this streak of seven-day gains might ...   \n",
       "..                                                 ...   \n",
       "295  Key Specifications HD webcam Yes Touchscreen Y...   \n",
       "296  Key Specifications HD webcam Yes Touchscreen Y...   \n",
       "297  China's attempted economic transition has deep...   \n",
       "298  A Canadian legal scholar appointed as the Unit...   \n",
       "299  The president received a complete and restored...   \n",
       "\n",
       "                                Source      Topic          PublishDate  \\\n",
       "0                          BusinessDay    economy  2016-03-29 01:41:12   \n",
       "1                           Daily Mail  microsoft  2016-03-29 01:41:27   \n",
       "2                               EURweb  microsoft  2016-03-29 01:47:00   \n",
       "3         Bloomberg via Yahoo! Finance    economy  2016-03-29 02:00:00   \n",
       "4                             FXStreet    economy  2016-03-29 02:01:07   \n",
       "..                                 ...        ...                  ...   \n",
       "295  Digital Trends via Yahoo! Finance  microsoft  2016-03-29 17:28:00   \n",
       "296   Digital Trends via Yahoo! Sports  microsoft  2016-03-29 17:28:00   \n",
       "297                    Financial Times    economy  2016-03-29 17:32:09   \n",
       "298                         Ottawa Sun  palestine  2016-03-29 17:34:00   \n",
       "299                 Hollywood Reporter      obama  2016-03-29 17:35:09   \n",
       "\n",
       "     Facebook  GooglePlus  LinkedIn  \n",
       "0           0           0         1  \n",
       "1         121           2        13  \n",
       "2          12           1         0  \n",
       "3           0           0         3  \n",
       "4           3           0         0  \n",
       "..        ...         ...       ...  \n",
       "295         0           0         0  \n",
       "296         0           0         0  \n",
       "297        50           7       140  \n",
       "298         0           0         0  \n",
       "299        61           2         0  \n",
       "\n",
       "[300 rows x 9 columns]"
      ]
     },
     "metadata": {},
     "output_type": "display_data"
    }
   ],
   "source": [
    "ruta_carpeta = \"E://Maestria/2023-2/Temas/datos_proyecto/archive/test_file.csv\"\n",
    "df2 = pd.read_csv(ruta_carpeta) \n",
    "df2=df2.head(300)\n",
    "display(df2)"
   ]
  },
  {
   "cell_type": "code",
   "execution_count": 8,
   "id": "acc984e2",
   "metadata": {},
   "outputs": [
    {
     "data": {
      "text/plain": [
       "Topic\n",
       "economy      107\n",
       "obama         98\n",
       "microsoft     57\n",
       "palestine     38\n",
       "dtype: int64"
      ]
     },
     "execution_count": 8,
     "metadata": {},
     "output_type": "execute_result"
    }
   ],
   "source": [
    "df2.value_counts('Topic')"
   ]
  },
  {
   "cell_type": "markdown",
   "id": "d6d73bde",
   "metadata": {},
   "source": [
    "### Transformer"
   ]
  },
  {
   "cell_type": "code",
   "execution_count": 4,
   "id": "90550d0e",
   "metadata": {},
   "outputs": [
    {
     "name": "stderr",
     "output_type": "stream",
     "text": [
      "Some weights of the model checkpoint at bert-base-uncased were not used when initializing BertModel: ['cls.predictions.transform.LayerNorm.weight', 'cls.predictions.transform.dense.bias', 'cls.predictions.decoder.weight', 'cls.seq_relationship.weight', 'cls.predictions.transform.LayerNorm.bias', 'cls.predictions.transform.dense.weight', 'cls.predictions.bias', 'cls.seq_relationship.bias']\n",
      "- This IS expected if you are initializing BertModel from the checkpoint of a model trained on another task or with another architecture (e.g. initializing a BertForSequenceClassification model from a BertForPreTraining model).\n",
      "- This IS NOT expected if you are initializing BertModel from the checkpoint of a model that you expect to be exactly identical (initializing a BertForSequenceClassification model from a BertForSequenceClassification model).\n"
     ]
    }
   ],
   "source": [
    "def mean_pooling(model_output, attention_mask):\n",
    "    token_embeddings = model_output[0]\n",
    "    input_mask_expanded = attention_mask.unsqueeze(-1).expand(token_embeddings.size()).float()\n",
    "    return torch.sum(token_embeddings * input_mask_expanded, 1) / torch.clamp(input_mask_expanded.sum(1), min=1e-9)\n",
    "\n",
    "# Cargar modelo preentrenado y tokenizador (reemplazar 'bert-base-uncased' con el modelo que desees)\n",
    "tokenizer = AutoTokenizer.from_pretrained('bert-base-uncased')\n",
    "model = AutoModel.from_pretrained('bert-base-uncased')"
   ]
  },
  {
   "cell_type": "code",
   "execution_count": 17,
   "id": "d418e1b7",
   "metadata": {},
   "outputs": [
    {
     "name": "stdout",
     "output_type": "stream",
     "text": [
      "Resultados del Agrupamiento:\n",
      "                                                 Title  cluster\n",
      "0    Sliding Economy: FG fights back with N3trn TSA...        2\n",
      "1    Microsoft shows how HoloLens can bring distant...        2\n",
      "2    Microsoft’s Twitter Robot Praises Hitler, Trum...        3\n",
      "3    Flood of Central Bank Moves Can't Get World Ec...        1\n",
      "4    USD/JPY: bears lining up on mixed U.S. economy...        1\n",
      "..                                                 ...      ...\n",
      "295                     Lenovo ThinkPad X1 Yoga review        2\n",
      "296                     Lenovo ThinkPad X1 Yoga review        2\n",
      "297     China's future challenge for the world economy        1\n",
      "298  Canadian UN human rights adviser for Palestine...        0\n",
      "299  Obama Gifted With Restored Copy of 'Native Son...        3\n",
      "\n",
      "[300 rows x 2 columns]\n"
     ]
    },
    {
     "name": "stderr",
     "output_type": "stream",
     "text": [
      "C:\\Users\\user\\anaconda3\\envs\\Redesneuronales\\lib\\site-packages\\sklearn\\cluster\\_kmeans.py:870: FutureWarning: The default value of `n_init` will change from 10 to 'auto' in 1.4. Set the value of `n_init` explicitly to suppress the warning\n",
      "  warnings.warn(\n",
      "C:\\Users\\user\\anaconda3\\envs\\Redesneuronales\\lib\\site-packages\\sklearn\\cluster\\_kmeans.py:1382: UserWarning: KMeans is known to have a memory leak on Windows with MKL, when there are less chunks than available threads. You can avoid it by setting the environment variable OMP_NUM_THREADS=2.\n",
      "  warnings.warn(\n"
     ]
    }
   ],
   "source": [
    "# Tokenizar tweets y calcular embeddings\n",
    "encoded_inputs = tokenizer(list(df2['Title']), padding=True, truncation=True, return_tensors='pt')\n",
    "with torch.no_grad():\n",
    "    model_output = model(**encoded_inputs)\n",
    "\n",
    "# Realizar Mean Pooling para obtener las representaciones vectoriales de los tweets\n",
    "tweet_embeddings = mean_pooling(model_output, encoded_inputs['attention_mask'])\n",
    "\n",
    "# Aplicar k-means para agrupar los tweets\n",
    "num_clusters = 4  # Número de clusters deseado\n",
    "kmeans = KMeans(n_clusters=num_clusters, random_state=42)\n",
    "clusters = kmeans.fit_predict(tweet_embeddings)\n",
    "\n",
    "# Agregar la información de los clusters a los datos originales\n",
    "df2['cluster'] = clusters\n",
    "\n",
    "# Imprimir los resultados\n",
    "print(\"Resultados del Agrupamiento:\")\n",
    "print(df2[['Title', 'cluster']])"
   ]
  },
  {
   "cell_type": "code",
   "execution_count": 18,
   "id": "146b9e34",
   "metadata": {},
   "outputs": [
    {
     "data": {
      "text/plain": [
       "cluster\n",
       "3    101\n",
       "0     83\n",
       "2     59\n",
       "1     57\n",
       "dtype: int64"
      ]
     },
     "execution_count": 18,
     "metadata": {},
     "output_type": "execute_result"
    }
   ],
   "source": [
    "df2.value_counts('cluster')"
   ]
  },
  {
   "cell_type": "code",
   "execution_count": 20,
   "id": "706d9748",
   "metadata": {},
   "outputs": [
    {
     "data": {
      "text/plain": [
       "Topic\n",
       "economy      107\n",
       "obama         98\n",
       "microsoft     57\n",
       "palestine     38\n",
       "dtype: int64"
      ]
     },
     "execution_count": 20,
     "metadata": {},
     "output_type": "execute_result"
    }
   ],
   "source": [
    "df2.value_counts('Topic')"
   ]
  },
  {
   "cell_type": "code",
   "execution_count": 22,
   "id": "f341f281",
   "metadata": {},
   "outputs": [
    {
     "data": {
      "image/png": "[encoded data removed]",
      "text/plain": [
       "<Figure size 1200x500 with 2 Axes>"
      ]
     },
     "metadata": {},
     "output_type": "display_data"
    }
   ],
   "source": [
    "fig, axs = plt.subplots(1, 2, figsize=(12, 5))\n",
    "\n",
    "# Graficar value counts de \"Topic\"\n",
    "df2['Topic'].value_counts().plot(kind='bar', color='skyblue', ax=axs[0])\n",
    "axs[0].set_title('Value Counts de el tema de la noticia')\n",
    "#axs[0].set_xlabel('Valores')\n",
    "axs[0].set_ylabel('Frecuencia')\n",
    "\n",
    "# Graficar value counts de \"cluster\"\n",
    "df2['cluster'].value_counts().plot(kind='bar', color='salmon', ax=axs[1])\n",
    "axs[1].set_title('Value Counts del cluster generado por la AI')\n",
    "#axs[1].set_xlabel('Valores')\n",
    "axs[1].set_ylabel('Frecuencia')\n",
    "\n",
    "# Ajustar el diseño\n",
    "plt.tight_layout()\n",
    "plt.show()\n"
   ]
  },
  {
   "cell_type": "code",
   "execution_count": null,
   "id": "3863d668",
   "metadata": {},
   "outputs": [],
   "source": []
  }
 ],
 "metadata": {
  "kernelspec": {
   "display_name": "Python 3 (ipykernel)",
   "language": "python",
   "name": "python3"
  },
  "language_info": {
   "codemirror_mode": {
    "name": "ipython",
    "version": 3
   },
   "file_extension": ".py",
   "mimetype": "text/x-python",
   "name": "python",
   "nbconvert_exporter": "python",
   "pygments_lexer": "ipython3",
   "version": "3.10.11"
  }
 },
 "nbformat": 4,
 "nbformat_minor": 5
}
